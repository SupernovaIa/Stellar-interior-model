{
 "cells": [
  {
   "cell_type": "markdown",
   "metadata": {},
   "source": [
    "Importing libraries, variables and"
   ]
  },
  {
   "cell_type": "code",
   "execution_count": 19,
   "metadata": {},
   "outputs": [],
   "source": [
    "import numpy as np\n",
    "import matplotlib.pyplot as plt\n",
    "import pandas as pd\n",
    "import yaml\n",
    "import sys\n",
    "import os\n",
    "\n",
    "# Get notebook directory\n",
    "notebook_dir = os.getcwd()\n",
    "\n",
    "# Add root directory\n",
    "project_root = os.path.abspath(os.path.join(notebook_dir, '..'))\n",
    "sys.path.append(project_root)\n",
    "\n",
    "# Import StellarModel\n",
    "from src.star_class import StellarModel\n",
    "\n",
    "# Path to config.yaml\n",
    "config_path = os.path.join(notebook_dir, '../config/config.yaml')\n",
    "\n",
    "# For loading yaml in .py\n",
    "# config_path = os.path.join(os.path.dirname(__file__), '../config/config.yaml')\n",
    "\n",
    "# Loading variables from YAML\n",
    "with open(config_path, 'r') as file:\n",
    "    config = yaml.safe_load(file)\n",
    "\n",
    "physical_constants = config['physical_constants']\n",
    "numerical_params = config['numerical_parameters']\n",
    "star_model = config['star_model']\n",
    "test_star = config['test_star']\n",
    "\n",
    "# Physical constants\n",
    "K = physical_constants['K']\n",
    "Na = physical_constants['Na']\n",
    "\n",
    "# Numerical parameters\n",
    "max_err = numerical_params['max_err']\n",
    "\n",
    "# Star parameters\n",
    "M_total = star_model['M_total']\n",
    "X = star_model['composition']['X']\n",
    "Y = star_model['composition']['Y']\n",
    "T_central = star_model['initial_conditions']['T_central']\n",
    "R_total = star_model['initial_conditions']['R_total']\n",
    "L_total = star_model['initial_conditions']['L_total']\n",
    "\n",
    "# Test parameters\n",
    "M_test = test_star['M_test']\n",
    "X_test = test_star['composition']['X_test']\n",
    "Y_test = test_star['composition']['Y_test']\n",
    "T_test = test_star['initial_conditions']['T_test']\n",
    "R_test = test_star['initial_conditions']['R_test']\n",
    "L_test = test_star['initial_conditions']['L_test']\n"
   ]
  },
  {
   "cell_type": "code",
   "execution_count": 20,
   "metadata": {},
   "outputs": [
    {
     "name": "stdout",
     "output_type": "stream",
     "text": [
      "Total error:  67.76104608765111\n"
     ]
    }
   ],
   "source": [
    "# We create an instance of the class StellarModel with the parameters of the test case\n",
    "test = StellarModel(M_test, X_test, Y_test, T_test, R_test, L_test)\n",
    "test.complete_model()\n",
    "# test_initial_results = Results(test.R, test.P, test.T, test.L, test.M)\n",
    "print(\"Total error: \", test.error)"
   ]
  },
  {
   "cell_type": "code",
   "execution_count": 21,
   "metadata": {},
   "outputs": [
    {
     "name": "stdout",
     "output_type": "stream",
     "text": [
      "Total error:  102.16159150215643\n"
     ]
    }
   ],
   "source": [
    "star = StellarModel(M_total, X, Y, T_central, R_total, L_total)\n",
    "star.complete_model()\n",
    "print(\"Total error: \", star.error)"
   ]
  }
 ],
 "metadata": {
  "kernelspec": {
   "display_name": "test",
   "language": "python",
   "name": "python3"
  },
  "language_info": {
   "codemirror_mode": {
    "name": "ipython",
    "version": 3
   },
   "file_extension": ".py",
   "mimetype": "text/x-python",
   "name": "python",
   "nbconvert_exporter": "python",
   "pygments_lexer": "ipython3",
   "version": "3.12.4"
  }
 },
 "nbformat": 4,
 "nbformat_minor": 2
}
